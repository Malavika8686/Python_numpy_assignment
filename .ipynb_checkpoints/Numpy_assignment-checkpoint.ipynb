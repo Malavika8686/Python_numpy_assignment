{
 "cells": [
  {
   "cell_type": "code",
   "execution_count": null,
   "id": "66e41357-264e-465e-bc47-857498c0fa34",
   "metadata": {},
   "outputs": [],
   "source": [
    "'''\n",
    "                                          THEORETICAL QUESTIONS\n",
    "1. Explain the purpose and advantages of NumPy in scientific computing and data analysis. How does it \n",
    "enhance Python's capabilities for numerical operations?\n",
    "\n",
    "a.NumPy is a Python library that enhances scientific computing and data analysis by providing efficient storage and manipulation of numerical data.\n",
    "b.It offers a powerful ndarray object for multi-dimensional arrays, optimized mathematical functions, and the ability to interface with C/C++ and Fortran code. \n",
    "c.NumPy is foundational for other Python libraries like SciPy, Pandas, and Scikit-Learn.\n",
    "\n",
    "* Advantages of NumPy:\n",
    "1.Performance: Faster than Python lists due to efficient memory management, vectorization, and optimized C/Fortran libraries.\n",
    "2.Ease of Use: High-level syntax for complex operations and mathematical functions simplifies coding.\n",
    "3.Support for Multi-dimensional Arrays: Essential for handling matrices and tensors in scientific computing.\n",
    "4.Comprehensive Functions: Provides a wide range of mathematical and statistical operations.\n",
    "5.Interoperability: Seamlessly integrates with other data science libraries, enhancing Python's numerical capabilities.\n",
    "\n",
    "* How NumPy Enhances Python:\n",
    "1.Improved Performance: Faster numerical operations compared to Python lists.\n",
    "2.Rich Mathematical Functionality: Advanced functions not natively available in Python.\n",
    "3.Reduced Development Time: More concise and readable code for numerical tasks.\n",
    "4.High-level Syntax: Makes complex operations more intuitive.\n",
    "NumPy transforms Python into a powerful tool for numerical and scientific computing by making computations faster, more efficient, and easier to implement.\n",
    "'''"
   ]
  },
  {
   "cell_type": "code",
   "execution_count": 9,
   "id": "bffbc4fd-59af-4b44-bcd8-ce960e668bdd",
   "metadata": {},
   "outputs": [
    {
     "name": "stdout",
     "output_type": "stream",
     "text": [
      "2.5\n",
      "2.6666666666666665\n"
     ]
    },
    {
     "data": {
      "text/plain": [
       "'\\nKey Differences\\nnp.mean() is for simple averages without weights.\\nnp.average() allows for weighted averages, giving flexibility in calculations.\\n\\nWhen to Use\\nUse np.mean() when all data points are equally important.\\nUse np.average() when you want to give different weights to different data points.\\n'"
      ]
     },
     "execution_count": 9,
     "metadata": {},
     "output_type": "execute_result"
    }
   ],
   "source": [
    "'''\n",
    " 2. Compare and contrast np.mean() and np.average() functions in NumPy. When would you use one over the \n",
    "other?\n",
    "\n",
    "In NumPy, np.mean() and np.average() are both used to calculate averages, but they have key differences:\n",
    "\n",
    "np.mean()\n",
    "Purpose: Computes the arithmetic mean of an array.\n",
    "Usage: np.mean(a, axis=None, dtype=None, out=None, keepdims=False)\n",
    "Weights: Does not support weighting; all elements are considered equally.\n",
    "Use When: You need a simple, unweighted average.\n",
    "'''\n",
    "import numpy as np\n",
    "a = np.array([1, 2, 3, 4])\n",
    "mean = np.mean(a)\n",
    "print(mean)\n",
    "'''\n",
    "np.average()\n",
    "Purpose: Computes the weighted average of an array. If no weights are given, it computes the arithmetic mean.\n",
    "Usage: np.average(a, axis=None, weights=None, returned=False)\n",
    "Weights: Supports weighting; different elements can have different weights.\n",
    "Use When: You need a weighted average or want to account for varying importance of elements.\n",
    "'''\n",
    "\n",
    "a = np.array([1, 2, 3, 4])\n",
    "weights = np.array([1, 2, 1, 2])\n",
    "weighted_average = np.average(a, weights=weights)\n",
    "print(weighted_average)\n",
    "\n",
    "'''\n",
    "Key Differences\n",
    "np.mean() is for simple averages without weights.\n",
    "np.average() allows for weighted averages, giving flexibility in calculations.\n",
    "\n",
    "When to Use\n",
    "Use np.mean() when all data points are equally important.\n",
    "Use np.average() when you want to give different weights to different data points.\n",
    "'''\n",
    "\n"
   ]
  },
  {
   "cell_type": "code",
   "execution_count": 5,
   "id": "28fa9472-4b94-4846-a685-ee0c7bd7ae86",
   "metadata": {},
   "outputs": [
    {
     "name": "stdout",
     "output_type": "stream",
     "text": [
      "[5 4 3 2 1]\n",
      "[5 4 3 2 1]\n",
      "[[7 8 9]\n",
      " [4 5 6]\n",
      " [1 2 3]]\n",
      "[[3 2 1]\n",
      " [6 5 4]\n",
      " [9 8 7]]\n",
      "[[7 8 9]\n",
      " [4 5 6]\n",
      " [1 2 3]]\n",
      "[[3 2 1]\n",
      " [6 5 4]\n",
      " [9 8 7]]\n",
      "[[7 8 9]\n",
      " [4 5 6]\n",
      " [1 2 3]]\n",
      "[[3 2 1]\n",
      " [6 5 4]\n",
      " [9 8 7]]\n"
     ]
    }
   ],
   "source": [
    "'''\n",
    "3. Describe the methods for reversing a NumPy array along different axes. Provide examples for 1D and 2D \n",
    "arrays.\n",
    "\n",
    "To reverse a NumPy array along different axes,\n",
    "you can use several methods depending on the array's dimensions and the desired axis to reverse.\n",
    "\n",
    "Methods to Reverse a NumPy Array\n",
    "\n",
    "1.Using Slicing ([::-1]):\n",
    "\n",
    "    This method can reverse arrays along any axis by specifying slicing for that axis.\n",
    "    Example for 1D array: arr[::-1]\n",
    "    Example for 2D array:\n",
    "    Reverse entire array: arr[::-1, ::-1]\n",
    "    Reverse rows only: arr[::-1, :]\n",
    "    Reverse columns only: arr[:, ::-1]\n",
    "2.Using np.flip():\n",
    "\n",
    "    Explicit function to reverse an array along a specified axis.\n",
    "    Example for 1D array: np.flip(arr)\n",
    "    Example for 2D array:\n",
    "    Reverse rows: np.flip(arr, axis=0)\n",
    "    Reverse columns: np.flip(arr, axis=1)\n",
    "    \n",
    "3.Using np.flipud() and np.fliplr() (2D arrays only):\n",
    "\n",
    "    np.flipud(arr): Flips the array upside down (reverses rows).\n",
    "    np.fliplr(arr): Flips the array left to right (reverses columns).\n",
    "    \n",
    "1. Reversing a 1D Array\n",
    "'''\n",
    "import numpy as np\n",
    "#Using Slicing:\n",
    "arr_1d = np.array([1, 2, 3, 4, 5])\n",
    "reversed_1d = arr_1d[::-1]\n",
    "print(reversed_1d)\n",
    "\n",
    "#Using np.flip():\n",
    "reversed_1d1 = np.flip(arr_1d)\n",
    "print(reversed_1d1)\n",
    "\n",
    "'''\n",
    "2. Reversing a 2D Array\n",
    "'''\n",
    "#Using Slicing:\n",
    "\n",
    "arr_2d = np.array([[1, 2, 3], [4, 5, 6], [7, 8, 9]])\n",
    "reversed_rows = arr_2d[::-1, :]\n",
    "reversed_cols = arr_2d[:, ::-1]\n",
    "print(reversed_rows)\n",
    "print(reversed_cols)\n",
    "\n",
    "#Using np.flip():\n",
    "\n",
    "reversed_rows1 = np.flip(arr_2d, axis=0)  \n",
    "reversed_cols1 = np.flip(arr_2d, axis=1)  \n",
    "print(reversed_rows1)\n",
    "print(reversed_cols1)\n",
    "\n",
    "#Using np.flipud() and np.fliplr():\n",
    "\n",
    "reversed_rows2= np.flipud(arr_2d)  \n",
    "reversed_cols2 = np.fliplr(arr_2d)\n",
    "print(reversed_rows2)\n",
    "print(reversed_cols2)\n"
   ]
  },
  {
   "cell_type": "code",
   "execution_count": 11,
   "id": "1c5215d5-4453-40f8-bb49-faed53017d0e",
   "metadata": {},
   "outputs": [
    {
     "name": "stdout",
     "output_type": "stream",
     "text": [
      "int64\n"
     ]
    },
    {
     "data": {
      "text/plain": [
       "\"\\nImportance of Data Types in NumPy\\n\\n1.Memory Management:\\nEfficient Memory Usage: Different data types consume different amounts of memory. \\nCompact Storage: Smaller data types result in more compact arrays, saving memory and enabling processing of larger datasets.\\n\\n2.Performance:\\nFaster Computation: Operations on smaller data types are typically faster than on larger types , improving computational speed.\\nEfficient Vectorization: NumPy's performance relies on vectorized operations, which are more efficient with smaller, simpler data types.\\n\\n3.Precision and Accuracy:\\nData Integrity: The correct data type prevents rounding errors and maintains data accuracy.\\nAvoiding Overflows: Choosing the right type avoids overflow errors.\\n\""
      ]
     },
     "execution_count": 11,
     "metadata": {},
     "output_type": "execute_result"
    }
   ],
   "source": [
    "'''\n",
    "4. How can you determine the data type of elements in a NumPy array? Discuss the importance of data types \n",
    "in memory management and performance.\n",
    "\n",
    "To determine the data type of elements in a NumPy array, use the dtype attribute:\n",
    "'''\n",
    "import numpy as np\n",
    "\n",
    "arr = np.array([1, 2, 3, 4])\n",
    "print(arr.dtype)\n",
    "\n",
    "'''\n",
    "Importance of Data Types in NumPy\n",
    "\n",
    "1.Memory Management:\n",
    "Efficient Memory Usage: Different data types consume different amounts of memory. \n",
    "Compact Storage: Smaller data types result in more compact arrays, saving memory and enabling processing of larger datasets.\n",
    "\n",
    "2.Performance:\n",
    "Faster Computation: Operations on smaller data types are typically faster than on larger types , improving computational speed.\n",
    "Efficient Vectorization: NumPy's performance relies on vectorized operations, which are more efficient with smaller, simpler data types.\n",
    "\n",
    "3.Precision and Accuracy:\n",
    "Data Integrity: The correct data type prevents rounding errors and maintains data accuracy.\n",
    "Avoiding Overflows: Choosing the right type avoids overflow errors.\n",
    "'''"
   ]
  },
  {
   "cell_type": "code",
   "execution_count": null,
   "id": "79266da8-32ce-4a7e-9f2e-93ad38a23bfc",
   "metadata": {},
   "outputs": [],
   "source": [
    "'''\n",
    "5. Define ndarrays in NumPy and explain their key features. How do they differ from standard Python lists?\n",
    "\n",
    "Definition of ndarrays in NumPy\n",
    "An ndarray (N-dimensional array) is the core data structure in NumPy used to store and manipulate a grid of values (all of the same type) in multiple dimensions (1D, 2D, 3D, etc.).\n",
    "\n",
    "Key Features of ndarrays\n",
    "1.Homogeneous Data Types: All elements have the same data type, which improves performance and memory efficiency.\n",
    "2.N-dimensional: Can represent data in multiple dimensions, such as vectors (1D), matrices (2D), and tensors (3D+).\n",
    "3.Memory Efficiency: Stored in contiguous memory blocks, allowing for fast access and manipulation.\n",
    "4.Advanced Mathematical Operations: Supports element-wise operations, broadcasting, and many mathematical functions.\n",
    "5.Broadcasting: Allows operations on arrays of different shapes without explicit data replication.\n",
    "6.Efficient Memory Handling: Can reshape and slice arrays without copying data, enhancing performance.\n",
    "7.Integration with C/C++ and Fortran: Optimized for performance and easily integrates with low-level code.\n",
    "\n",
    "Differences Between ndarrays and Python Lists\n",
    "\n",
    "1.Data Type Homogeneity:\n",
    "ndarrays: All elements must be the same type.\n",
    "Python Lists: Can contain elements of different types.\n",
    "\n",
    "2.Memory Usage:\n",
    "ndarrays: Contiguous memory blocks, more memory-efficient.\n",
    "Python Lists: Elements are pointers to objects, less memory-efficient.\n",
    "\n",
    "3.Performance:\n",
    "ndarrays: Faster for numerical operations due to optimized C libraries.\n",
    "Python Lists: Slower for numerical computations, especially for large data.\n",
    "\n",
    "4.Dimensionality:\n",
    "ndarrays: N-dimensional with support for reshaping and broadcasting.\n",
    "Python Lists: Limited multi-dimensional capabilities, no shape manipulation.\n",
    "\n",
    "5Built-in Functions:\n",
    "ndarrays: Extensive mathematical functions and vectorized operations.\n",
    "Python Lists: Basic operations, less efficient for numerical data processing.\n",
    "'''\n",
    " "
   ]
  },
  {
   "cell_type": "code",
   "execution_count": null,
   "id": "2fe7bd9d-2b9a-47bd-b8d3-12d5c227aec2",
   "metadata": {},
   "outputs": [],
   "source": [
    "'''\n",
    "6. Analyze the performance benefits of NumPy arrays over Python lists for large-scale numerical operations.\n",
    "\n",
    "NumPy arrays provide substantial performance benefits over Python lists for large-scale numerical operations due to:\n",
    "\n",
    "1.Memory Efficiency:\n",
    "Contiguous Allocation: Faster access and better cache utilization.\n",
    "Compact Storage: Uses less memory per element.\n",
    "\n",
    "2.Performance Efficiency:\n",
    "Optimized Computations: Built on efficient C and Fortran libraries.\n",
    "Vectorization: Performs operations on entire arrays at once, reducing overhead.\n",
    "\n",
    "3.Operation Speed:\n",
    "Faster Operations: Element-wise operations and broadcasting are faster than Python loops.\n",
    "Parallelism: Utilizes multiple CPU cores for computation.\n",
    "\n",
    "4.Advanced Features:\n",
    "Optimized Functions: Includes efficient mathematical functions and data manipulation tools.\n",
    "Efficient Slicing: Supports reshaping and slicing without data copying.\n",
    "\n",
    "5.Reduced Overhead:\n",
    "Lower Overhead: Avoids Python's type management and dynamic resizing costs.\n",
    "'''\n"
   ]
  },
  {
   "cell_type": "code",
   "execution_count": 10,
   "id": "3670558e-fed9-487d-a5a4-7bd9771c9167",
   "metadata": {},
   "outputs": [
    {
     "name": "stdout",
     "output_type": "stream",
     "text": [
      "[[1 2]\n",
      " [3 4]\n",
      " [5 6]\n",
      " [7 8]]\n",
      "[[1 2 5 6]\n",
      " [3 4 7 8]]\n"
     ]
    }
   ],
   "source": [
    "'''\n",
    "7. Compare vstack() and hstack() functions in NumPy. Provide examples demonstrating their usage and \n",
    "output.\n",
    "\n",
    "The vstack() and hstack() functions in NumPy are used to stack arrays vertically and horizontally, respectively. Here's a comparison of these functions, along with examples to illustrate their usage.\n",
    "\n",
    "1.np.vstack()\n",
    "Purpose: Stacks arrays vertically (along rows). It combines arrays by adding them as new rows.\n",
    "Input: A sequence of arrays with the same number of columns.\n",
    "Output: A single array with the input arrays stacked on top of each other.\n",
    "'''\n",
    "\n",
    "import numpy as np\n",
    "arr1 = np.array([[1, 2], [3, 4]])\n",
    "arr2 = np.array([[5, 6], [7, 8]])\n",
    "result_vstack = np.vstack((arr1, arr2))\n",
    "print(result_vstack)\n",
    "'''\n",
    "2.np.hstack()\n",
    "Purpose: Stacks arrays horizontally (along columns). It combines arrays by adding them as new columns.\n",
    "Input: A sequence of arrays with the same number of rows.\n",
    "Output: A single array with the input arrays stacked side by side.\n",
    "'''\n",
    "result_hstack = np.hstack((arr1, arr2))\n",
    "print(result_hstack)\n",
    "\n",
    "\n"
   ]
  },
  {
   "cell_type": "code",
   "execution_count": 12,
   "id": "27749ff5-a5b1-4adb-b5b0-757758f6b355",
   "metadata": {},
   "outputs": [
    {
     "name": "stdout",
     "output_type": "stream",
     "text": [
      "[[3 2 1]\n",
      " [6 5 4]\n",
      " [9 8 7]]\n",
      "[[7 8 9]\n",
      " [4 5 6]\n",
      " [1 2 3]]\n"
     ]
    },
    {
     "data": {
      "text/plain": [
       "'\\nFor 1D Arrays: Both functions are not applicable; use slicing ([::-1]) or np.flip() instead.\\n\\nFor N-D Arrays: np.fliplr() affects the second axis (axis=1) and np.flipud() affects the first axis (axis=0).\\n'"
      ]
     },
     "execution_count": 12,
     "metadata": {},
     "output_type": "execute_result"
    }
   ],
   "source": [
    "'''\n",
    "8.Explain the differences between fliplr() and flipud() methods in NumPy, including their effects on various \n",
    "array dimensions.\n",
    "\n",
    "Differences Between np.fliplr() and np.flipud()\n",
    "\n",
    "1.np.fliplr():\n",
    "Purpose: Flips an array left to right (reverses columns).\n",
    "Effect on 2D Arrays: Reverses the order of elements along the horizontal axis (axis=1).\n",
    "'''\n",
    "import numpy as np\n",
    "arr = np.array([[1, 2, 3], [4, 5, 6], [7, 8, 9]])\n",
    "print(np.fliplr(arr))\n",
    "'''\n",
    "2.np.flipud():\n",
    "Purpose: Flips an array up to down (reverses rows).\n",
    "Effect on 2D Arrays: Reverses the order of elements along the vertical axis (axis=0).\n",
    "'''\n",
    "print(np.flipud(arr))\n",
    "\n",
    "'''\n",
    "For 1D Arrays: Both functions are not applicable; use slicing ([::-1]) or np.flip() instead.\n",
    "\n",
    "For N-D Arrays: np.fliplr() affects the second axis (axis=1) and np.flipud() affects the first axis (axis=0).\n",
    "'''\n"
   ]
  },
  {
   "cell_type": "code",
   "execution_count": 13,
   "id": "2767ae6f-04b2-403d-bd67-5650d4182ce0",
   "metadata": {},
   "outputs": [
    {
     "name": "stdout",
     "output_type": "stream",
     "text": [
      "[array([1, 2]), array([3, 4]), array([5, 6])]\n",
      "[array([1, 2, 3]), array([4, 5]), array([6, 7])]\n",
      "[array([[1, 2],\n",
      "       [4, 5],\n",
      "       [7, 8]]), array([[3],\n",
      "       [6],\n",
      "       [9]])]\n"
     ]
    }
   ],
   "source": [
    "'''\n",
    "9. Discuss the functionality of the array_split() method in NumPy. How does it handle uneven splits?\n",
    "\n",
    "np.array_split() Method in NumPy\n",
    "Purpose: Splits an array into multiple sub-arrays. \n",
    "It can handle uneven splits where elements are not perfectly divisible by the number of sections.\n",
    "\n",
    "Syntax:\n",
    "numpy.array_split(ary, indices_or_sections, axis=0)\n",
    "\n",
    "ary: Input array.\n",
    "indices_or_sections: Number of splits or indices where to split.\n",
    "axis: Axis along which to split (default is 0).\n",
    "\n",
    "Handling Uneven Splits:\n",
    "Even Split: Creates sub-arrays of equal size if possible.\n",
    "Uneven Split: Distributes extra elements across sub-arrays, resulting in some sub-arrays being larger.\n",
    "'''\n",
    "\n",
    "#1. Even split\n",
    "\n",
    "arr = np.array([1, 2, 3, 4, 5, 6])\n",
    "print(np.array_split(arr, 3))\n",
    "\n",
    "#2.Uneven Split:\n",
    "\n",
    "arr = np.array([1, 2, 3, 4, 5, 6, 7])\n",
    "print(np.array_split(arr, 3))\n",
    "\n",
    "#Splitting Along a Different Axis (2D):\n",
    "\n",
    "arr = np.array([[1, 2, 3], [4, 5, 6], [7, 8, 9]])\n",
    "print(np.array_split(arr, 2, axis=1))\n",
    "\n",
    "\n"
   ]
  },
  {
   "cell_type": "code",
   "execution_count": 14,
   "id": "4a2e62dd-3b2b-4e76-bf43-a517de81bf8c",
   "metadata": {},
   "outputs": [
    {
     "name": "stdout",
     "output_type": "stream",
     "text": [
      "[2 4 6 8]\n",
      "[[11 12 13]\n",
      " [14 15 16]]\n"
     ]
    }
   ],
   "source": [
    "'''\n",
    "10. Explain the concepts of vectorization and broadcasting in NumPy. How do they contribute to efficient array \n",
    "operations?\n",
    "\n",
    "Vectorization and Broadcasting in NumPy\n",
    "\n",
    "1.Vectorization\n",
    "Concept: Applies operations to entire arrays at once, using optimized, compiled code instead of loops.\n",
    "Benefits: Faster performance and simpler code.\n",
    "'''\n",
    "import numpy as np\n",
    "arr = np.array([1, 2, 3, 4])\n",
    "result = arr * 2\n",
    "print(result)\n",
    "'''\n",
    "2.Broadcasting\n",
    "Concept: Allows operations on arrays of different shapes by automatically expanding smaller arrays to match the shape of larger ones.\n",
    "Rules:\n",
    "Dimensions must be compatible (same or one is 1).\n",
    "Align dimensions from the trailing end and expand as needed.\n",
    "'''\n",
    "\n",
    "arr1 = np.array([[1, 2, 3], [4, 5, 6]])\n",
    "scalar = 10\n",
    "result = arr1 + scalar\n",
    "print(result) \n",
    "\n"
   ]
  },
  {
   "cell_type": "code",
   "execution_count": 15,
   "id": "e2fa76a9-4ad9-41f5-b78b-ff3913977a94",
   "metadata": {},
   "outputs": [
    {
     "name": "stdout",
     "output_type": "stream",
     "text": [
      "Original Array:\n",
      "[[33 55 23]\n",
      " [28 16 15]\n",
      " [33 12 12]]\n",
      "\n",
      "Transposed Array:\n",
      "[[33 28 33]\n",
      " [55 16 12]\n",
      " [23 15 12]]\n"
     ]
    }
   ],
   "source": [
    "'''\n",
    "                                 PRACTICAL QUESTIONS\n",
    " 1. Create a 3x3 NumPy array with random integers between 1 and 100. Then, interchange its rows and columns.\n",
    " \n",
    "'''\n",
    "import numpy as np\n",
    "arr = np.random.randint(1, 101, size=(3, 3))\n",
    "print(\"Original Array:\")\n",
    "print(arr)\n",
    "transposed_arr = arr.T\n",
    "print(\"\\nTransposed Array:\")\n",
    "print(transposed_arr)\n",
    "\n"
   ]
  },
  {
   "cell_type": "code",
   "execution_count": 16,
   "id": "1e00c979-f9dd-4e1a-aafc-ce95186375cb",
   "metadata": {},
   "outputs": [
    {
     "name": "stdout",
     "output_type": "stream",
     "text": [
      "Original 1D Array:\n",
      "[0 1 2 3 4 5 6 7 8 9]\n",
      "\n",
      "Reshaped to 2x5 Array:\n",
      "[[0 1 2 3 4]\n",
      " [5 6 7 8 9]]\n",
      "\n",
      "Reshaped to 5x2 Array:\n",
      "[[0 1]\n",
      " [2 3]\n",
      " [4 5]\n",
      " [6 7]\n",
      " [8 9]]\n"
     ]
    }
   ],
   "source": [
    "'''\n",
    "2. Generate a 1D NumPy array with 10 elements. Reshape it into a 2x5 array, then into a 5x2 array.\n",
    "'''\n",
    "import numpy as np\n",
    "arr = np.arange(10)\n",
    "print(\"Original 1D Array:\")\n",
    "print(arr)\n",
    "a = arr.reshape(2, 5)\n",
    "print(\"\\nReshaped to 2x5 Array:\")\n",
    "print(a)\n",
    "b= arr.reshape(5, 2)\n",
    "print(\"\\nReshaped to 5x2 Array:\")\n",
    "print(b)\n"
   ]
  },
  {
   "cell_type": "code",
   "execution_count": 17,
   "id": "f9d8596a-3528-4a37-af65-de6d63e40ab2",
   "metadata": {},
   "outputs": [
    {
     "name": "stdout",
     "output_type": "stream",
     "text": [
      "Original 4x4 Array:\n",
      "[[0.12345138 0.89922315 0.9085388  0.98716466]\n",
      " [0.69254325 0.86740967 0.67916927 0.40008538]\n",
      " [0.92911801 0.89793617 0.47004041 0.10642509]\n",
      " [0.47780741 0.92621197 0.80126492 0.16413588]]\n",
      "\n",
      "6x6 Array with Border of Zeros:\n",
      "[[0.         0.         0.         0.         0.         0.        ]\n",
      " [0.         0.12345138 0.89922315 0.9085388  0.98716466 0.        ]\n",
      " [0.         0.69254325 0.86740967 0.67916927 0.40008538 0.        ]\n",
      " [0.         0.92911801 0.89793617 0.47004041 0.10642509 0.        ]\n",
      " [0.         0.47780741 0.92621197 0.80126492 0.16413588 0.        ]\n",
      " [0.         0.         0.         0.         0.         0.        ]]\n"
     ]
    }
   ],
   "source": [
    "'''\n",
    "3. Create a 4x4 NumPy array with random float values. Add a border of zeros around it, resulting in a 6x6 array.\n",
    "'''\n",
    "import numpy as np\n",
    "arr = np.random.rand(4, 4)\n",
    "print(\"Original 4x4 Array:\")\n",
    "print(arr)\n",
    "padded_arr = np.pad(arr, pad_width=1, mode='constant', constant_values=0)\n",
    "print(\"\\n6x6 Array with Border of Zeros:\")\n",
    "print(padded_arr)\n"
   ]
  },
  {
   "cell_type": "code",
   "execution_count": 18,
   "id": "0a037b51-b1cc-47d9-922b-736cc5937f26",
   "metadata": {},
   "outputs": [
    {
     "name": "stdout",
     "output_type": "stream",
     "text": [
      "[10 15 20 25 30 35 40 45 50 55 60]\n"
     ]
    }
   ],
   "source": [
    "'''\n",
    " 4. Using NumPy, create an array of integers from 10 to 60 with a step of 5.\n",
    "'''\n",
    "import numpy as np\n",
    "arr = np.arange(10, 65, 5) \n",
    "print(arr)\n"
   ]
  },
  {
   "cell_type": "code",
   "execution_count": 19,
   "id": "cd2b40fb-ef74-40c0-8395-3863879c684a",
   "metadata": {},
   "outputs": [
    {
     "name": "stdout",
     "output_type": "stream",
     "text": [
      "Original Array:\n",
      "['python' 'numpy' 'pandas']\n",
      "\n",
      "Uppercase:\n",
      "['PYTHON' 'NUMPY' 'PANDAS']\n",
      "\n",
      "Lowercase:\n",
      "['python' 'numpy' 'pandas']\n",
      "\n",
      "Title Case:\n",
      "['Python' 'Numpy' 'Pandas']\n",
      "\n",
      "Capitalize Case:\n",
      "['Python' 'Numpy' 'Pandas']\n"
     ]
    }
   ],
   "source": [
    "'''\n",
    "5.Create a NumPy array of strings ['python', 'numpy', 'pandas']. Apply different case transformations \n",
    "(uppercase, lowercase, title case, etc.) to each element.\n",
    "'''\n",
    "\n",
    "import numpy as np\n",
    "arr = np.array(['python', 'numpy', 'pandas'])\n",
    "\n",
    "\n",
    "upper_case = np.char.upper(arr)    \n",
    "lower_case = np.char.lower(arr)    \n",
    "title_case = np.char.title(arr)    \n",
    "capitalize_case = np.char.capitalize(arr)  \n",
    "\n",
    "\n",
    "print(\"Original Array:\")\n",
    "print(arr)\n",
    "\n",
    "print(\"\\nUppercase:\")\n",
    "print(upper_case)\n",
    "\n",
    "print(\"\\nLowercase:\")\n",
    "print(lower_case)\n",
    "\n",
    "print(\"\\nTitle Case:\")\n",
    "print(title_case)\n",
    "\n",
    "print(\"\\nCapitalize Case:\")\n",
    "print(capitalize_case)\n"
   ]
  },
  {
   "cell_type": "code",
   "execution_count": 20,
   "id": "bd0d6503-aff9-4f8c-9fd2-05e28c5bb45a",
   "metadata": {},
   "outputs": [
    {
     "name": "stdout",
     "output_type": "stream",
     "text": [
      "Array with spaces between characters:\n",
      "['a p p l e' 'm a n g o' 'b a n a n a']\n"
     ]
    }
   ],
   "source": [
    "'''\n",
    " 6. Generate a NumPy array of words. Insert a space between each character of every word in the array.\n",
    " '''\n",
    "import numpy as np\n",
    "words = np.array(['apple', 'mango', 'banana'])\n",
    "\n",
    "spaced_words = np.char.join(' ', words)\n",
    "\n",
    "print(\"Array with spaces between characters:\")\n",
    "print(spaced_words)\n",
    "\n",
    " "
   ]
  },
  {
   "cell_type": "code",
   "execution_count": 21,
   "id": "85ce3f2a-a79a-4a9a-9b70-65916bb2af84",
   "metadata": {},
   "outputs": [
    {
     "name": "stdout",
     "output_type": "stream",
     "text": [
      "Array 1:\n",
      "[[1 2 3]\n",
      " [4 5 6]]\n",
      "\n",
      "Array 2:\n",
      "[[ 7  8  9]\n",
      " [10 11 12]]\n",
      "\n",
      "Element-wise Addition:\n",
      "[[ 8 10 12]\n",
      " [14 16 18]]\n",
      "\n",
      "Element-wise Subtraction:\n",
      "[[-6 -6 -6]\n",
      " [-6 -6 -6]]\n",
      "\n",
      "Element-wise Multiplication:\n",
      "[[ 7 16 27]\n",
      " [40 55 72]]\n",
      "\n",
      "Element-wise Division:\n",
      "[[0.14285714 0.25       0.33333333]\n",
      " [0.4        0.45454545 0.5       ]]\n"
     ]
    }
   ],
   "source": [
    "'''\n",
    "7. Create two 2D NumPy arrays and perform element-wise addition, subtraction, multiplication, and division.\n",
    "'''\n",
    "import numpy as np\n",
    "array1 = np.array([[1, 2, 3], [4, 5, 6]])\n",
    "array2 = np.array([[7, 8, 9], [10, 11, 12]])\n",
    "\n",
    "\n",
    "addition = array1 + array2\n",
    "subtraction = array1 - array2\n",
    "multiplication = array1 * array2\n",
    "division = array1 / array2 \n",
    "\n",
    "\n",
    "print(\"Array 1:\")\n",
    "print(array1)\n",
    "\n",
    "print(\"\\nArray 2:\")\n",
    "print(array2)\n",
    "\n",
    "print(\"\\nElement-wise Addition:\")\n",
    "print(addition)\n",
    "\n",
    "print(\"\\nElement-wise Subtraction:\")\n",
    "print(subtraction)\n",
    "\n",
    "print(\"\\nElement-wise Multiplication:\")\n",
    "print(multiplication)\n",
    "\n",
    "print(\"\\nElement-wise Division:\")\n",
    "print(division)\n",
    "\n"
   ]
  },
  {
   "cell_type": "code",
   "execution_count": 22,
   "id": "17baf3f9-62ce-4007-bfd8-ec8531103419",
   "metadata": {},
   "outputs": [
    {
     "name": "stdout",
     "output_type": "stream",
     "text": [
      "5x5 Identity Matrix:\n",
      "[[1. 0. 0. 0. 0.]\n",
      " [0. 1. 0. 0. 0.]\n",
      " [0. 0. 1. 0. 0.]\n",
      " [0. 0. 0. 1. 0.]\n",
      " [0. 0. 0. 0. 1.]]\n",
      "\n",
      "Diagonal Elements:\n",
      "[1. 1. 1. 1. 1.]\n"
     ]
    }
   ],
   "source": [
    "'''\n",
    "8.Use NumPy to create a 5x5 identity matrix, then extract its diagonal elements.\n",
    "'''\n",
    "import numpy as np\n",
    "identity_matrix = np.eye(5)\n",
    "diagonal_elements = np.diag(identity_matrix)\n",
    "\n",
    "\n",
    "print(\"5x5 Identity Matrix:\")\n",
    "print(identity_matrix)\n",
    "\n",
    "print(\"\\nDiagonal Elements:\")\n",
    "print(diagonal_elements)\n"
   ]
  },
  {
   "cell_type": "code",
   "execution_count": 23,
   "id": "eaed322c-a5b7-439c-b53f-6f6ceeebbe97",
   "metadata": {},
   "outputs": [
    {
     "name": "stdout",
     "output_type": "stream",
     "text": [
      "Array of Random Integers:\n",
      "[ 77 148 426 100   3 130 342 838 270 233 937  55 297 198 749 827 695 889\n",
      " 337 771 733 247 396 442 635 312 601 303 791 403 100 295  82 536  39 834\n",
      " 430 858 775 802 188 183 288 495 487 330 549 348 630 849  30 183 419 490\n",
      " 231  12 899 568 717 854 276 720 621 656 310 262 409 876 176 485 749 311\n",
      " 935 188 278 366 115 613 935 299 431 633 539 859 774 915 408 358 686 156\n",
      " 870 179 178 269 641 657 364 596 621 741]\n",
      "\n",
      "Prime Numbers in the Array:\n",
      "[  3 233 937 827 337 733 601 487 419 409 311 613 431 859 179 269 641]\n"
     ]
    }
   ],
   "source": [
    "'''\n",
    "9. Generate a NumPy array of 100 random integers between 0 and 1000. Find and display all prime numbers in \n",
    "this array.\n",
    "'''\n",
    "import numpy as np\n",
    "def is_prime(n):\n",
    "    if n <= 1:\n",
    "        return False\n",
    "    if n <= 3:\n",
    "        return True\n",
    "    if n % 2 == 0 or n % 3 == 0:\n",
    "        return False\n",
    "    i = 5\n",
    "    while i * i <= n:\n",
    "        if n % i == 0 or n % (i + 2) == 0:\n",
    "            return False\n",
    "        i += 6\n",
    "    return True\n",
    "arr = np.random.randint(0, 1001, size=100)\n",
    "primes = np.array([x for x in arr if is_prime(x)])\n",
    "print(\"Array of Random Integers:\")\n",
    "print(arr)\n",
    "\n",
    "print(\"\\nPrime Numbers in the Array:\")\n",
    "print(primes)\n"
   ]
  },
  {
   "cell_type": "code",
   "execution_count": 26,
   "id": "5165e8f9-766b-470e-ac22-de3cf5255686",
   "metadata": {},
   "outputs": [
    {
     "name": "stdout",
     "output_type": "stream",
     "text": [
      "Daily Temperatures for a Month:\n",
      "[34.2974552  19.78580587 35.49790515 23.3381906  41.42776783 16.52312088\n",
      " 41.91396617 17.85547636 40.57927371 42.84316088 41.84016815 19.71781565\n",
      " 18.26924845 36.57993478 25.35225016 23.6553079  16.0928682  27.88980625\n",
      " 22.01701362 16.14965252 18.84802617 22.4485519  39.61935932 24.65622198\n",
      " 42.5752905  33.39686182 19.10638883 22.83089947]\n",
      "\n",
      "Weekly Temperatures:\n",
      "[[34.2974552  19.78580587 35.49790515 23.3381906  41.42776783 16.52312088\n",
      "  41.91396617]\n",
      " [17.85547636 40.57927371 42.84316088 41.84016815 19.71781565 18.26924845\n",
      "  36.57993478]\n",
      " [25.35225016 23.6553079  16.0928682  27.88980625 22.01701362 16.14965252\n",
      "  18.84802617]\n",
      " [22.4485519  39.61935932 24.65622198 42.5752905  33.39686182 19.10638883\n",
      "  22.83089947]]\n",
      "\n",
      "Weekly Averages:\n",
      "[30.39774453 31.09786828 21.42927498 29.23336769]\n"
     ]
    }
   ],
   "source": [
    "'''\n",
    "10. Create a NumPy array representing daily temperatures for a month. Calculate and display the weekly \n",
    "averages\n",
    "'''\n",
    "import numpy as np\n",
    "daily_temperatures = np.random.uniform(low=15, high=45, size=28)\n",
    "weekly_temperatures = daily_temperatures.reshape(4, 7)\n",
    "weekly_averages = np.mean(weekly_temperatures, axis=1)\n",
    "\n",
    "\n",
    "print(\"Daily Temperatures for a Month:\")\n",
    "print(daily_temperatures)\n",
    "\n",
    "print(\"\\nWeekly Temperatures:\")\n",
    "print(weekly_temperatures)\n",
    "\n",
    "print(\"\\nWeekly Averages:\")\n",
    "print(weekly_averages)\n"
   ]
  },
  {
   "cell_type": "code",
   "execution_count": null,
   "id": "5e69f11b-99bb-427f-9aa7-23acc3ca701f",
   "metadata": {},
   "outputs": [],
   "source": []
  }
 ],
 "metadata": {
  "kernelspec": {
   "display_name": "Python 3 (ipykernel)",
   "language": "python",
   "name": "python3"
  },
  "language_info": {
   "codemirror_mode": {
    "name": "ipython",
    "version": 3
   },
   "file_extension": ".py",
   "mimetype": "text/x-python",
   "name": "python",
   "nbconvert_exporter": "python",
   "pygments_lexer": "ipython3",
   "version": "3.10.8"
  }
 },
 "nbformat": 4,
 "nbformat_minor": 5
}
